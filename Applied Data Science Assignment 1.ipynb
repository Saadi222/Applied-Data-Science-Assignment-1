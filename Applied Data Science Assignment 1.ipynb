{
 "cells": [
  {
   "cell_type": "code",
   "execution_count": null,
   "id": "3b65f511",
   "metadata": {},
   "outputs": [],
   "source": [
    "import numpy as np\n",
    "import matplotlib.pyplot as plt\n",
    "import pandas as pd\n",
    "import seaborn as sns\n",
    "from scipy import stats"
   ]
  },
  {
   "cell_type": "code",
   "execution_count": null,
   "id": "c16d7013",
   "metadata": {},
   "outputs": [],
   "source": [
    "# Loading dataset using pandas \n",
    "df = pd.read_csv('user_behavior_dataset.csv', index_col = 'User ID')\n",
    "df.head()"
   ]
  },
  {
   "cell_type": "code",
   "execution_count": null,
   "id": "ec80c2e6",
   "metadata": {},
   "outputs": [],
   "source": [
    "# Number of rows and columns of dataset\n",
    "df.shape"
   ]
  },
  {
   "cell_type": "code",
   "execution_count": null,
   "id": "2f6b3722",
   "metadata": {},
   "outputs": [],
   "source": [
    "# Some basic statistics\n",
    "df.describe()"
   ]
  },
  {
   "cell_type": "code",
   "execution_count": null,
   "id": "da49eb03",
   "metadata": {},
   "outputs": [],
   "source": [
    "# checking for empty values\n",
    "df.isnull().sum()"
   ]
  },
  {
   "cell_type": "code",
   "execution_count": null,
   "id": "110b11f7",
   "metadata": {},
   "outputs": [],
   "source": [
    "# Counting number of duplicate rows\n",
    "df.duplicated().sum()"
   ]
  },
  {
   "cell_type": "code",
   "execution_count": null,
   "id": "1f719787",
   "metadata": {},
   "outputs": [],
   "source": [
    "# Selecting Numeric columns\n",
    "numeric_df = df.select_dtypes(include = ['number'])\n",
    "numeric_df"
   ]
  },
  {
   "cell_type": "code",
   "execution_count": null,
   "id": "d92554d4",
   "metadata": {},
   "outputs": [],
   "source": [
    "# Showing basic statistics like mean, median, standard deviation etc\n",
    "def calculate_statistics(df):\n",
    "    major_moments = pd.DataFrame({\n",
    "        'Mean': df.mean(),\n",
    "        'Median': df.median(),\n",
    "        'Standard Deviation': df.std(),\n",
    "        'Skewness': df.apply(stats.skew),\n",
    "        'Kurtosis': df.apply(stats.kurtosis),\n",
    "    })\n",
    "    return major_moments"
   ]
  },
  {
   "cell_type": "code",
   "execution_count": null,
   "id": "fc47706d",
   "metadata": {},
   "outputs": [],
   "source": [
    "stats = calculate_statistics(numeric_df)\n",
    "print(stats)"
   ]
  },
  {
   "cell_type": "code",
   "execution_count": null,
   "id": "39cd21ae",
   "metadata": {},
   "outputs": [],
   "source": [
    "# Storing Unique device models and their counts\n",
    "models = df['Device Model'].unique()\n",
    "model_counts = df['Device Model'].value_counts()"
   ]
  },
  {
   "cell_type": "code",
   "execution_count": null,
   "id": "0b368d09",
   "metadata": {},
   "outputs": [],
   "source": [
    "# Function to plot pie chart\n",
    "def plot_models_pie(model_counts, labels = models):\n",
    "    # Creates a pie chart of the device models used by users\n",
    "    plt.figure(dpi = 144, figsize=(3,3))\n",
    "    plt.pie(model_counts, labels = labels, autopct = '%1.1f%%', startangle = 90)\n",
    "    # Title of the pie chart\n",
    "    plt.title('Mobile Models Used by Users', fontsize = 10)\n",
    "    plt.axis('equal')\n",
    "    plt.show()\n",
    "    return"
   ]
  },
  {
   "cell_type": "code",
   "execution_count": null,
   "id": "944d2076",
   "metadata": {},
   "outputs": [],
   "source": [
    "plot_models_pie(model_counts, models)"
   ]
  },
  {
   "cell_type": "code",
   "execution_count": null,
   "id": "a1566437",
   "metadata": {},
   "outputs": [],
   "source": [
    "data_usage = df['Data Usage (MB/day)']\n",
    "screen_on_time = df['Screen On Time (hours/day)']"
   ]
  },
  {
   "cell_type": "code",
   "execution_count": null,
   "id": "a003e34a",
   "metadata": {},
   "outputs": [],
   "source": [
    "#Sometimes code doesn't work because all cells work in parallel thats's why I included this library here\n",
    "from scipy import stats\n",
    "# Storing some basic statistics in variables\n",
    "age = df['Age']\n",
    "mean_age = df['Age'].mean()\n",
    "median_age = df['Age'].median()\n",
    "mode_age = df['Age'].mode()[0]\n",
    "skewness_age = stats.skew(df['Age'])\n",
    "kurtosis_age = stats.kurtosis(df['Age'])"
   ]
  },
  {
   "cell_type": "code",
   "execution_count": null,
   "id": "f9b51839",
   "metadata": {},
   "outputs": [],
   "source": [
    "# Plotting Histogram\n",
    "def plot_hist(age):\n",
    "    plt.figure(dpi = 144, figsize = (6, 4))\n",
    "    plt.hist(age, bins=10, color = 'purple', edgecolor='black', alpha = 0.7)\n",
    "    # Plot mean, median, and mode as vertical lines\n",
    "    plt.axvline(mean_age, color='red', linestyle = '--', linewidth = 2, label=f'Mean: {mean_age:.2f}')\n",
    "    plt.axvline(median_age, color='green', linestyle='--', linewidth = 2, label = f'Median: {median_age:.2f}')\n",
    "    plt.axvline(mode_age, color = 'blue', linestyle = '--', linewidth = 2, label = f'Mode: {mode_age}')    \n",
    "    # Move skewness and kurtosis text to bottom right\n",
    "    plt.text(0.95, 0.05, f'Skewness: {skewness_age:.2f}', \n",
    "         transform = plt.gca().transAxes, ha = 'right', va = 'bottom', fontsize = 10, color = 'black')\n",
    "    plt.text(0.95, 0.10, f'Kurtosis: {kurtosis_age:.2f}', \n",
    "         transform = plt.gca().transAxes, ha = 'right', va = 'bottom', fontsize = 10, color = 'black')\n",
    "    # Add labels and title\n",
    "    plt.xlabel('Age')\n",
    "    plt.ylabel('Frequency')\n",
    "    plt.title('Age Distribution', fontsize = 10)\n",
    "    plt.legend()\n",
    "    plt.show()"
   ]
  },
  {
   "cell_type": "code",
   "execution_count": null,
   "id": "6fd1eed5",
   "metadata": {},
   "outputs": [],
   "source": [
    "plot_hist(age)"
   ]
  },
  {
   "cell_type": "code",
   "execution_count": null,
   "id": "b8065c81",
   "metadata": {},
   "outputs": [],
   "source": [
    "# Storing specific column values in variables\n",
    "app_usage = df['App Usage Time (min/day)']\n",
    "battery_drain = df['Battery Drain (mAh/day)']\n",
    "battery_drain"
   ]
  },
  {
   "cell_type": "code",
   "execution_count": null,
   "id": "32de5114",
   "metadata": {},
   "outputs": [],
   "source": [
    "# Function to plot scatter plot\n",
    "def app_usage_vs_battery_drain_scatter(app_usage, battery_drain):\n",
    "    #Creates a line graph of age against on screen time\n",
    "    plt.figure(dpi = 144, figsize = (4 ,4))  \n",
    "    plt.scatter(battery_drain, app_usage, alpha = 0.7, color = 'purple') \n",
    "    #Setting title and labels\n",
    "    plt.title('Battery Drain vs App Usage', fontsize = 10)\n",
    "    plt.xlabel('Battery Drain')  \n",
    "    plt.ylabel('App Usage') \n",
    "    plt.grid(True) \n",
    "    plt.tight_layout()  \n",
    "    plt.show()"
   ]
  },
  {
   "cell_type": "code",
   "execution_count": null,
   "id": "e1f1ed91",
   "metadata": {},
   "outputs": [],
   "source": [
    " app_usage_vs_battery_drain_scatter(app_usage, battery_drain)"
   ]
  },
  {
   "cell_type": "code",
   "execution_count": null,
   "id": "969f3c03",
   "metadata": {},
   "outputs": [],
   "source": [
    "# Calculate the average number of apps installed for each mobile type\n",
    "avg_drain_time = df.groupby('Device Model')['Battery Drain (mAh/day)'].mean()\n",
    "avg_drain_time"
   ]
  },
  {
   "cell_type": "code",
   "execution_count": null,
   "id": "8745b91e",
   "metadata": {},
   "outputs": [],
   "source": [
    "# Plotting bar graph\n",
    "def plot_avg_drain_time_by_mobile_type_matplotlib(avg_drain_time):\n",
    "    plt.figure(dpi = 144, figsize = (8, 4))  \n",
    "    plt.bar(avg_drain_time.index, avg_drain_time.values, color='purple')\n",
    "     # Calculate the mean of the average drain time\n",
    "    mean_drain_time = avg_drain_time.mean()    \n",
    "    # Plot horizontal line for mean\n",
    "    plt.axhline(y = mean_drain_time, color = 'red', linestyle = '--', linewidth = 2)    \n",
    "    # Add label for the mean line manually\n",
    "    plt.text(len(avg_drain_time) - 3, mean_drain_time + 12, f'Mean: {mean_drain_time:.2f}', \n",
    "             color = 'red', fontsize = 10, ha = 'left', va = 'bottom')\n",
    "    #Setting title and labels\n",
    "    plt.title('Average drain time by Mobile Type', fontsize = 10)  \n",
    "    plt.xlabel('Mobile Type')  \n",
    "    plt.ylabel('Average Drain Time(mAh/day)')  \n",
    "    plt.grid(axis = 'y')  \n",
    "    plt.tight_layout() \n",
    "    plt.show()"
   ]
  },
  {
   "cell_type": "code",
   "execution_count": null,
   "id": "936c255b",
   "metadata": {},
   "outputs": [],
   "source": [
    "# Plotting the bar chart\n",
    "plot_avg_drain_time_by_mobile_type_matplotlib(avg_drain_time)"
   ]
  },
  {
   "cell_type": "code",
   "execution_count": null,
   "id": "988cabdb",
   "metadata": {},
   "outputs": [],
   "source": [
    "# Correlation Matrix using Pearson Method\n",
    "numeric_df.corr()"
   ]
  },
  {
   "cell_type": "code",
   "execution_count": null,
   "id": "10cdc19b",
   "metadata": {},
   "outputs": [],
   "source": [
    "# Correlation Matrix using Kendall Method\n",
    "numeric_df.corr(method = 'kendall')"
   ]
  },
  {
   "cell_type": "code",
   "execution_count": null,
   "id": "6ac3ed69",
   "metadata": {},
   "outputs": [],
   "source": [
    "# Plottting Heatmaps\n",
    "def plot_mobile_correlation(numeric_df, method):    \n",
    "    fig, ax = plt.subplots(dpi = 144, figsize = (8, 4))\n",
    "    mask = np.triu(np.ones_like(numeric_df.corr()))\n",
    "    sns.heatmap(numeric_df.corr(method = method), ax = ax, vmin = -1, vmax = 1,\n",
    "                cmap = 'RdBu', annot = True, mask = mask)\n",
    "    # Rorating labels for readability\n",
    "    plt.xticks(rotation=45, ha='right')\n",
    "    # Setting title of heatmap\n",
    "    plt.title(f\" Heatmap Using {method.capitalize()} Correlation Matrix\", fontsize = 10)\n",
    "    plt.show()\n",
    "    return"
   ]
  },
  {
   "cell_type": "code",
   "execution_count": null,
   "id": "0736a2a4",
   "metadata": {},
   "outputs": [],
   "source": [
    "plot_mobile_correlation(numeric_df, 'pearson')\n",
    "plot_mobile_correlation(numeric_df, 'kendall')"
   ]
  }
 ],
 "metadata": {
  "kernelspec": {
   "display_name": "Python 3 (ipykernel)",
   "language": "python",
   "name": "python3"
  },
  "language_info": {
   "codemirror_mode": {
    "name": "ipython",
    "version": 3
   },
   "file_extension": ".py",
   "mimetype": "text/x-python",
   "name": "python",
   "nbconvert_exporter": "python",
   "pygments_lexer": "ipython3",
   "version": "3.9.13"
  }
 },
 "nbformat": 4,
 "nbformat_minor": 5
}
